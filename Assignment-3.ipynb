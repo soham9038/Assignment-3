{
 "cells": [
  {
   "cell_type": "markdown",
   "metadata": {},
   "source": [
    "# TASK 1\n",
    "**Question 1:**"
   ]
  },
  {
   "cell_type": "code",
   "execution_count": 1,
   "metadata": {},
   "outputs": [
    {
     "name": "stdout",
     "output_type": "stream",
     "text": [
      "Code Execution Failed: You are dividing by Zero..!\n"
     ]
    }
   ],
   "source": [
    " def division(a, b):\n",
    "    try:\n",
    "        output = a/b\n",
    "        print(\"Code Executed successfully.. The output is \", output)\n",
    "\n",
    "    except ZeroDivisionError:\n",
    "    \n",
    "        print(\"Code Execution Failed: You are dividing by Zero..!\")\n",
    "    \n",
    "    \n",
    "division(5,0)\n",
    "    "
   ]
  },
  {
   "cell_type": "markdown",
   "metadata": {},
   "source": [
    "<font color=blue>**Question 2: Implement a Python program to generate all sentences where subject is in [\"Americans\",\n",
    "\"Indians\"] and verb is in [\"Play\", \"watch\"] and the object is in [\"Baseball\",\"cricket\"].**\n",
    "\n",
    "**Hint: Subject,Verb and Object should be declared in the program as shown below.**\n",
    "\n",
    "**subjects=[\"Americans \",\"Indians\"]**\n",
    "\n",
    "**verbs=[\"play\",\"watch\"]**\n",
    "\n",
    "**objects=[\"Baseball\",\"Cricket\"]**\n",
    "\n",
    "**Output should come as below:**\n",
    "\n",
    "**Americans play Baseball.**\n",
    "\n",
    "**Americans play Cricket.**\n",
    "\n",
    "**Americans watch Baseball.**\n",
    "\n",
    "**Americans watch Cricket.**\n",
    "\n",
    "**Indians play Baseball.**\n",
    "\n",
    "**Indians play Cricket.**\n",
    "\n",
    "**Indians watch Baseball.**\n",
    "\n",
    "**Indians watch Cricket.**</font>"
   ]
  },
  {
   "cell_type": "code",
   "execution_count": 2,
   "metadata": {},
   "outputs": [
    {
     "name": "stdout",
     "output_type": "stream",
     "text": [
      "Americans Play Baseball.\n",
      "Americans Play Cricket.\n",
      "Americans Watch Baseball.\n",
      "Americans Watch Cricket.\n",
      "Indians Play Baseball.\n",
      "Indians Play Cricket.\n",
      "Indians Watch Baseball.\n",
      "Indians Watch Cricket.\n"
     ]
    }
   ],
   "source": [
    "Subjects = ['Americans', 'Indians']\n",
    "Verbs = ['Play', 'Watch']\n",
    "Objects = ['Baseball', 'Cricket']\n",
    "\n",
    "for a in Subjects:\n",
    "    \n",
    "    for b in Verbs:\n",
    "        \n",
    "        for c in Objects:\n",
    "            \n",
    "            print(a, b, c, end=\".\")\n",
    "            print()\n",
    "            "
   ]
  },
  {
   "cell_type": "markdown",
   "metadata": {},
   "source": [
    "# TASK 2\n",
    "\n",
    "<font color=blue>**Question 1: Write a function so that the columns of the output matrix are powers of the input vector. The order of the powers is determined by the increasing boolean argument. Specifically, when increasing is False, the i-th output column is the input vector raised element-wise to the power of N - i - 1.**\n",
    "\n",
    "**HINT: Such a matrix with a geometric progression in each row is named for Alexandre-\n",
    "Theophile Vandermonde.**</font>"
   ]
  },
  {
   "cell_type": "code",
   "execution_count": 4,
   "metadata": {},
   "outputs": [
    {
     "name": "stdout",
     "output_type": "stream",
     "text": [
      "[[  1   1   1   1   1]\n",
      " [  1   2   4   8  16]\n",
      " [  1   3   9  27  81]\n",
      " [  1   4  16  64 256]\n",
      " [  1   5  25 125 625]]\n"
     ]
    }
   ],
   "source": [
    "def matrix(l):\n",
    "    import numpy as np\n",
    "    x = np.array(l)\n",
    "    N = len(x)\n",
    "    b = np.column_stack([x**(N-i-1) for i in range(0,N)])\n",
    "    c = b[:, ::-1]\n",
    "    print(c)\n",
    "    \n",
    "    \n",
    "l = [1, 2, 3, 4, 5]\n",
    "matrix(l)\n",
    "    "
   ]
  }
 ],
 "metadata": {
  "kernelspec": {
   "display_name": "Python 3",
   "language": "python",
   "name": "python3"
  },
  "language_info": {
   "codemirror_mode": {
    "name": "ipython",
    "version": 3
   },
   "file_extension": ".py",
   "mimetype": "text/x-python",
   "name": "python",
   "nbconvert_exporter": "python",
   "pygments_lexer": "ipython3",
   "version": "3.7.4"
  }
 },
 "nbformat": 4,
 "nbformat_minor": 2
}
